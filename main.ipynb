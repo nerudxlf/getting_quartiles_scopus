{
  "nbformat": 4,
  "nbformat_minor": 0,
  "metadata": {
    "colab": {
      "name": "main.ipynb",
      "provenance": [],
      "authorship_tag": "ABX9TyMCoAr5e6EmK79Vf2JyiBhG",
      "include_colab_link": true
    },
    "kernelspec": {
      "name": "python3",
      "display_name": "Python 3"
    }
  },
  "cells": [
    {
      "cell_type": "markdown",
      "metadata": {
        "id": "view-in-github",
        "colab_type": "text"
      },
      "source": [
        "<a href=\"https://colab.research.google.com/github/nerudxlf/getting_quartiles_scopus/blob/main/main.ipynb\" target=\"_parent\"><img src=\"https://colab.research.google.com/assets/colab-badge.svg\" alt=\"Open In Colab\"/></a>"
      ]
    },
    {
      "cell_type": "code",
      "metadata": {
        "id": "OEqh80rOZIcC"
      },
      "source": [
        "import re\r\n",
        "\r\n",
        "import pandas as pd\r\n",
        "from google.colab import files\r\n",
        "\r\n",
        "files.upload()"
      ],
      "execution_count": null,
      "outputs": []
    },
    {
      "cell_type": "code",
      "metadata": {
        "id": "m73lFdjbZQWU"
      },
      "source": [
        "def source_title_update(data: object) -> object:\r\n",
        "  data_list = data[\"Source Title\"].to_list()\r\n",
        "  result_list = []\r\n",
        "  for elem in data_list:\r\n",
        "    if isinstance(elem, float):\r\n",
        "      result_list.append(\"not\")\r\n",
        "      continue\r\n",
        "    elem = elem.upper()\r\n",
        "    elem = re.sub(\"[^A-Za-z0-9]\", \"\", elem)\r\n",
        "    result_list.append(elem)\r\n",
        "  data[\"KEY\"] = result_list\r\n",
        "  return data\r\n",
        "\r\n",
        "\r\n",
        "def get_result(s: object, data: object) -> object:\r\n",
        "  result_s_df = pd.merge(left=s, right=data, left_on=\"KEY\", right_on=\"KEY\")\r\n",
        "  result_s_df.drop(['Unnamed: 0', 'Source Title_y'], axis=1, inplace=True)\r\n",
        "  result_s_df.rename(columns={\"Source Title_x\": \"Source Title\"}, inplace=True)\r\n",
        "  return result_s_df\r\n",
        "\r\n",
        "\r\n",
        "def get_n(data: object) -> object:\r\n",
        "  data_list = data[\"Affiliations\"].to_list()\r\n",
        "  result_list = []\r\n",
        "  for elem in data_list:\r\n",
        "    n1, n2, = 0, 0\r\n",
        "    elem_split = elem.split(\"; \")\r\n",
        "    for item in elem_split:\r\n",
        "      if item.find(\"Omsk State Technical University\") != -1:\r\n",
        "        n1 += 1\r\n",
        "      else:\r\n",
        "        n2 += 1\r\n",
        "    n = n1 / (n1 + n2)\r\n",
        "    result_list.append(n)\r\n",
        "  data[\"N\"] = result_list\r\n",
        "  return data"
      ],
      "execution_count": null,
      "outputs": []
    },
    {
      "cell_type": "code",
      "metadata": {
        "id": "2fonWe7UZ7Pi"
      },
      "source": [
        "scopus_df = pd.read_excel(\"scopus2020.xlsx\")\r\n",
        "s1_df = pd.read_excel(\"s1.xlsx\")\r\n",
        "s2_df = pd.read_excel(\"s2.xlsx\")\r\n",
        "s3_df = pd.read_excel(\"s3.xlsx\")\r\n",
        "s4_df = pd.read_excel(\"s4.xlsx\")\r\n",
        "s_none_df = pd.read_excel(\"s_none.xlsx\")\r\n",
        "\r\n",
        "scopus_df_update = scopus_df.filter([\"Authors\", \" Title\", \"Source Title\", \"Affiliations\"])\r\n",
        "scopus_df_and_key = source_title_update(scopus_df_update)\r\n",
        "s1_df_and_key = source_title_update(s1_df)\r\n",
        "s2_df_and_key = source_title_update(s2_df)\r\n",
        "s3_df_and_key = source_title_update(s3_df)\r\n",
        "s4_df_and_key = source_title_update(s4_df)\r\n",
        "s_none_df_and_key = source_title_update(s_none_df)\r\n",
        "\r\n",
        "result_s1_df = get_result(s1_df_and_key, scopus_df_and_key)\r\n",
        "result_s1_df = get_n(result_s1_df)\r\n",
        "\r\n",
        "result_s2_df = get_result(s2_df_and_key, scopus_df_and_key)\r\n",
        "result_s2_df = get_n(result_s2_df)\r\n",
        "\r\n",
        "result_s3_df = get_result(s3_df_and_key, scopus_df_and_key)\r\n",
        "result_s3_df = get_n(result_s3_df)\r\n",
        "\r\n",
        "result_s4_df = get_result(s4_df_and_key, scopus_df_and_key)\r\n",
        "result_s4_df = get_n(result_s4_df)\r\n",
        "\r\n",
        "result_s_none_df = get_result(s_none_df_and_key, scopus_df_and_key)\r\n",
        "result_s_none_df = get_n(result_s_none_df)\r\n",
        "\r\n",
        "result_s1_df.to_excel(\"s1_result.xlsx\", index=False)\r\n",
        "result_s2_df.to_excel(\"s2_result.xlsx\", index=False)\r\n",
        "result_s3_df.to_excel(\"s3_result.xlsx\", index=False)\r\n",
        "result_s4_df.to_excel(\"s4_result.xlsx\", index=False)\r\n",
        "result_s_none_df.to_excel(\"s_none_result.xlsx\", index=False)"
      ],
      "execution_count": null,
      "outputs": []
    }
  ]
}